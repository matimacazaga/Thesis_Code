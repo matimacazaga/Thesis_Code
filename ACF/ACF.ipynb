{
 "cells": [
  {
   "cell_type": "code",
   "execution_count": 3,
   "metadata": {},
   "outputs": [],
   "source": [
    "import pandas as pd\n",
    "import matplotlib.pyplot as plt\n",
    "import pickle\n",
    "from IPython.display import display\n",
    "import numpy as np\n",
    "import matplotlib as mpl"
   ]
  },
  {
   "cell_type": "code",
   "execution_count": 4,
   "metadata": {},
   "outputs": [],
   "source": [
    "tickers = pickle.load(open('/home/matimacazaga/Documents/Universidad/Tesis/tickers.p','rb'))"
   ]
  },
  {
   "cell_type": "markdown",
   "metadata": {},
   "source": [
    "\\begin{equation}\n",
    "R(k)=\\dfrac{1}{(n-k)\\sigma^{2}}\\sum_{t=1}^{n-k}(X_{t}-\\mu)(X_{t+k}-\\mu)\n",
    "\\end{equation}"
   ]
  },
  {
   "cell_type": "code",
   "execution_count": 5,
   "metadata": {},
   "outputs": [],
   "source": [
    "def autocorr(x,maxlag = 252):\n",
    "    mean = np.mean(x)\n",
    "    var = np.var(x,ddof=0)\n",
    "    n = len(x)\n",
    "    lags = np.arange(1,maxlag) #maxlag = dias de trading en un año por defecto\n",
    "    ac_coeffs = []\n",
    "    for lag in lags:\n",
    "        coeff = 0\n",
    "        for t in range(0,n-lag-1):\n",
    "            coeff += (x[t]-mean)*(x[t+lag]-mean)\n",
    "        coeff = coeff/((n-lag)*var)\n",
    "        ac_coeffs.append(coeff)\n",
    "    return ac_coeffs,lags"
   ]
  },
  {
   "cell_type": "code",
   "execution_count": 4,
   "metadata": {},
   "outputs": [],
   "source": [
    "lag_dict = dict()\n",
    "acf_dict = dict()\n",
    "tickers_utilizados = []\n",
    "for ticker in tickers:\n",
    "    stock = pd.read_csv('/home/matimacazaga/Documents/Universidad/Tesis/CSV/'+ticker+'.csv',sep=',')\n",
    "    if len(stock)>2000:\n",
    "        tickers_utilizados.append(ticker)\n",
    "        stock = stock[stock['cierre'] != 0]\n",
    "        returns = (stock['cierre']-stock['cierre'].shift(1))/stock['cierre'].shift(1)\n",
    "        returns.dropna(inplace = True)\n",
    "        returns = np.array(returns)\n",
    "        acf_dict[ticker],lag_dict[ticker] = autocorr(returns)\n",
    "    "
   ]
  },
  {
   "cell_type": "code",
   "execution_count": 26,
   "metadata": {},
   "outputs": [],
   "source": [
    "confidence_levels = pd.DataFrame(columns =['3sigma','2sigma','1sigma'] , index = tickers_utilizados)\n",
    "for ticker in tickers_utilizados:\n",
    "    data = pd.DataFrame(acf_dict[ticker], columns = ['ACCoeff'])\n",
    "    sigma3 = (len(data[data['ACCoeff']> 3*data['ACCoeff'].std(ddof = 0)])+len(data[data['ACCoeff'] < -3*data['ACCoeff'].std(ddof = 0)]))/(len(data))\n",
    "    sigma2 = (len(data[data['ACCoeff']> 2*data['ACCoeff'].std(ddof = 0)])+len(data[data['ACCoeff'] < -2*data['ACCoeff'].std(ddof = 0)]))/(len(data))\n",
    "    sigma1 = (len(data[data['ACCoeff']> 1*data['ACCoeff'].std(ddof = 0)])+len(data[data['ACCoeff'] < -1*data['ACCoeff'].std(ddof = 0)]))/(len(data))\n",
    "    confidence_levels.loc[ticker,'3sigma'] = sigma3*100\n",
    "    confidence_levels.loc[ticker,'2sigma'] = sigma2*100\n",
    "    confidence_levels.loc[ticker,'1sigma'] = sigma1*100"
   ]
  },
  {
   "cell_type": "code",
   "execution_count": 27,
   "metadata": {
    "scrolled": true
   },
   "outputs": [
    {
     "data": {
      "text/html": [
       "<div>\n",
       "<style>\n",
       "    .dataframe thead tr:only-child th {\n",
       "        text-align: right;\n",
       "    }\n",
       "\n",
       "    .dataframe thead th {\n",
       "        text-align: left;\n",
       "    }\n",
       "\n",
       "    .dataframe tbody tr th {\n",
       "        vertical-align: top;\n",
       "    }\n",
       "</style>\n",
       "<table border=\"1\" class=\"dataframe\">\n",
       "  <thead>\n",
       "    <tr style=\"text-align: right;\">\n",
       "      <th></th>\n",
       "      <th>3sigma</th>\n",
       "      <th>2sigma</th>\n",
       "      <th>1sigma</th>\n",
       "    </tr>\n",
       "  </thead>\n",
       "  <tbody>\n",
       "    <tr>\n",
       "      <th>BHIP</th>\n",
       "      <td>1.19522</td>\n",
       "      <td>2.78884</td>\n",
       "      <td>27.0916</td>\n",
       "    </tr>\n",
       "    <tr>\n",
       "      <th>BRIO</th>\n",
       "      <td>0.398406</td>\n",
       "      <td>5.17928</td>\n",
       "      <td>30.2789</td>\n",
       "    </tr>\n",
       "    <tr>\n",
       "      <th>CADO</th>\n",
       "      <td>0</td>\n",
       "      <td>3.98406</td>\n",
       "      <td>33.8645</td>\n",
       "    </tr>\n",
       "    <tr>\n",
       "      <th>CAPX</th>\n",
       "      <td>0.796813</td>\n",
       "      <td>3.58566</td>\n",
       "      <td>32.6693</td>\n",
       "    </tr>\n",
       "    <tr>\n",
       "      <th>CARC</th>\n",
       "      <td>0.796813</td>\n",
       "      <td>4.78088</td>\n",
       "      <td>26.6932</td>\n",
       "    </tr>\n",
       "  </tbody>\n",
       "</table>\n",
       "</div>"
      ],
      "text/plain": [
       "        3sigma   2sigma   1sigma\n",
       "BHIP   1.19522  2.78884  27.0916\n",
       "BRIO  0.398406  5.17928  30.2789\n",
       "CADO         0  3.98406  33.8645\n",
       "CAPX  0.796813  3.58566  32.6693\n",
       "CARC  0.796813  4.78088  26.6932"
      ]
     },
     "metadata": {},
     "output_type": "display_data"
    }
   ],
   "source": [
    "display(confidence_levels.head())"
   ]
  },
  {
   "cell_type": "code",
   "execution_count": 28,
   "metadata": {},
   "outputs": [],
   "source": [
    "pickle.dump( lag_dict, open( \"lags.p\", \"wb\" ) )\n",
    "pickle.dump( acf_dict, open( \"acf.p\", \"wb\" ) )\n",
    "confidence_levels.to_csv('confidence_levels.csv',sep=',')"
   ]
  },
  {
   "cell_type": "code",
   "execution_count": 29,
   "metadata": {},
   "outputs": [
    {
     "name": "stdout",
     "output_type": "stream",
     "text": [
      "77.08333333333334 37.5 22.916666666666664\n"
     ]
    }
   ],
   "source": [
    "outside_3sigma = len(confidence_levels[confidence_levels['3sigma'] > 0.2])/np.shape(confidence_levels)[0]\n",
    "outside_2sigma = len(confidence_levels[confidence_levels['2sigma'] > 5])/np.shape(confidence_levels)[0]\n",
    "outside_1sigma = len(confidence_levels[confidence_levels['1sigma'] > 32])/np.shape(confidence_levels)[0]\n",
    "print(outside_3sigma*100,outside_2sigma*100, outside_1sigma*100)"
   ]
  },
  {
   "cell_type": "markdown",
   "metadata": {},
   "source": [
    "El $77\\%$ de las acciones poseen más de $0.2\\%$ datos que se encuentran fuera del canal de confianza de $3\\sigma$"
   ]
  },
  {
   "cell_type": "code",
   "execution_count": 44,
   "metadata": {
    "scrolled": true
   },
   "outputs": [
    {
     "data": {
      "image/png": "[encoded data removed]",
      "text/plain": [
       "<matplotlib.figure.Figure at 0x7f1cdfbf6358>"
      ]
     },
     "metadata": {},
     "output_type": "display_data"
    }
   ],
   "source": [
    "import matplotlib as mpl\n",
    "\n",
    "%matplotlib inline\n",
    "plt.style.use('seaborn-paper')\n",
    "plt.rc('text', usetex=True)\n",
    "plt.rc('font', family='serif')\n",
    "params = {\n",
    "   'axes.labelsize': 10,\n",
    "   'font.size': 10,\n",
    "   'legend.fontsize': 10,\n",
    "   'xtick.labelsize': 10,\n",
    "   'ytick.labelsize': 10,\n",
    "   'figure.figsize': [6, 4.5]\n",
    "   }\n",
    "mpl.rcParams.update(params)\n",
    "\n",
    "pampa = pd.DataFrame(acf_dict['PAMP'], columns = ['ACCoeff'])\n",
    "sigma_pampa = pampa['ACCoeff'].std(ddof = 0)\n",
    "\n",
    "plt.plot(lag_dict['PAMP'],acf_dict['PAMP'], linewidth=2, color='#1c6bf3',label = r'\\textbf{Pampa Energia S.A.}')\n",
    "\n",
    "plt.xlabel(r\"\\textbf{$\\displaystyle \\left(t-t'\\right)$[dias]}\")\n",
    "plt.ylabel(r\"\\textbf{FAC $\\displaystyle \\left(t-t'\\right)$ }\")\n",
    "plt.axhline(y = sigma_pampa, color ='k', linestyle = '--', linewidth = 1 )\n",
    "plt.axhline(y = -sigma_pampa, color ='k', linestyle = '--', linewidth = 1 )\n",
    "plt.legend()\n",
    "plt.savefig('ACF_PAMP.eps', format = 'eps', dpi = 1000)"
   ]
  },
  {
   "cell_type": "markdown",
   "metadata": {},
   "source": [
    "Mismo análisis pero tomando el valor absoluto de los retornos"
   ]
  },
  {
   "cell_type": "code",
   "execution_count": 6,
   "metadata": {},
   "outputs": [],
   "source": [
    "lag_dict = dict()\n",
    "acf_dict = dict()\n",
    "tickers_utilizados = []\n",
    "for ticker in tickers:\n",
    "    stock = pd.read_csv('/home/matimacazaga/Documents/Universidad/Tesis/CSV/'+ticker+'.csv',sep=',')\n",
    "    if len(stock)>2000:\n",
    "        tickers_utilizados.append(ticker)\n",
    "        stock = stock[stock['cierre'] != 0]\n",
    "        returns = (stock['cierre']-stock['cierre'].shift(1))/stock['cierre'].shift(1)\n",
    "        returns.dropna(inplace = True)\n",
    "        returns = np.array(returns)\n",
    "        returns = np.abs(returns)\n",
    "        acf_dict[ticker],lag_dict[ticker] = autocorr(returns)"
   ]
  },
  {
   "cell_type": "code",
   "execution_count": 7,
   "metadata": {},
   "outputs": [],
   "source": [
    "confidence_levels = pd.DataFrame(columns =['3sigma','2sigma','1sigma'] , index = tickers_utilizados)\n",
    "for ticker in tickers_utilizados:\n",
    "    data = pd.DataFrame(acf_dict[ticker], columns = ['ACCoeff'])\n",
    "    sigma3 = (len(data[data['ACCoeff']> 3*data['ACCoeff'].std(ddof = 0)])+len(data[data['ACCoeff'] < -3*data['ACCoeff'].std(ddof = 0)]))/(len(data))\n",
    "    sigma2 = (len(data[data['ACCoeff']> 2*data['ACCoeff'].std(ddof = 0)])+len(data[data['ACCoeff'] < -2*data['ACCoeff'].std(ddof = 0)]))/(len(data))\n",
    "    sigma1 = (len(data[data['ACCoeff']> 1*data['ACCoeff'].std(ddof = 0)])+len(data[data['ACCoeff'] < -1*data['ACCoeff'].std(ddof = 0)]))/(len(data))\n",
    "    confidence_levels.loc[ticker,'3sigma'] = sigma3*100\n",
    "    confidence_levels.loc[ticker,'2sigma'] = sigma2*100\n",
    "    confidence_levels.loc[ticker,'1sigma'] = sigma1*100"
   ]
  },
  {
   "cell_type": "code",
   "execution_count": 8,
   "metadata": {},
   "outputs": [],
   "source": [
    "pickle.dump( lag_dict, open( \"lags_abs.p\", \"wb\" ) )\n",
    "pickle.dump( acf_dict, open( \"acf_abs.p\", \"wb\" ) )\n",
    "confidence_levels.to_csv('confidence_levels_abs.csv',sep=',')"
   ]
  },
  {
   "cell_type": "code",
   "execution_count": 9,
   "metadata": {},
   "outputs": [
    {
     "name": "stdout",
     "output_type": "stream",
     "text": [
      "100.0 83.33333333333334 64.58333333333334\n"
     ]
    }
   ],
   "source": [
    "outside_3sigma = len(confidence_levels[confidence_levels['3sigma'] > 0.2])/np.shape(confidence_levels)[0]\n",
    "outside_2sigma = len(confidence_levels[confidence_levels['2sigma'] > 5])/np.shape(confidence_levels)[0]\n",
    "outside_1sigma = len(confidence_levels[confidence_levels['1sigma'] > 32])/np.shape(confidence_levels)[0]\n",
    "print(outside_3sigma*100,outside_2sigma*100, outside_1sigma*100)"
   ]
  },
  {
   "cell_type": "code",
   "execution_count": 10,
   "metadata": {},
   "outputs": [
    {
     "data": {
      "image/png": "[encoded data removed]",
      "text/plain": [
       "<matplotlib.figure.Figure at 0x7f9e41079860>"
      ]
     },
     "metadata": {},
     "output_type": "display_data"
    }
   ],
   "source": [
    "%matplotlib inline\n",
    "plt.style.use('seaborn-paper')\n",
    "plt.rc('text', usetex=True)\n",
    "plt.rc('font', family='serif')\n",
    "params = {\n",
    "   'axes.labelsize': 10,\n",
    "   'font.size': 10,\n",
    "   'legend.fontsize': 10,\n",
    "   'xtick.labelsize': 10,\n",
    "   'ytick.labelsize': 10,\n",
    "   'figure.figsize': [6, 4.5]\n",
    "   }\n",
    "mpl.rcParams.update(params)\n",
    "\n",
    "pampa = pd.DataFrame(acf_dict['PAMP'], columns = ['ACCoeff'])\n",
    "sigma_pampa = pampa['ACCoeff'].std(ddof = 0)\n",
    "\n",
    "plt.plot(lag_dict['PAMP'],acf_dict['PAMP'], linewidth=2, color='#1c6bf3',label = r'\\textbf{Pampa Energia S.A.}')\n",
    "\n",
    "plt.xlabel(r\"\\textbf{$\\displaystyle \\left(t-t'\\right)$[dias]}\")\n",
    "plt.ylabel(r\"\\textbf{FAC $\\displaystyle \\left(t-t'\\right)$ }\")\n",
    "plt.axhline(y = sigma_pampa, color ='k', linestyle = '--', linewidth = 1 )\n",
    "plt.axhline(y = -sigma_pampa, color ='k', linestyle = '--', linewidth = 1 )\n",
    "plt.legend()\n",
    "plt.savefig('ACF_PAMP_abs.eps', format = 'eps', dpi = 1000)"
   ]
  },
  {
   "cell_type": "code",
   "execution_count": null,
   "metadata": {},
   "outputs": [],
   "source": []
  }
 ],
 "metadata": {
  "kernelspec": {
   "display_name": "Python 3",
   "language": "python",
   "name": "python3"
  },
  "language_info": {
   "codemirror_mode": {
    "name": "ipython",
    "version": 3
   },
   "file_extension": ".py",
   "mimetype": "text/x-python",
   "name": "python",
   "nbconvert_exporter": "python",
   "pygments_lexer": "ipython3",
   "version": "3.6.3"
  }
 },
 "nbformat": 4,
 "nbformat_minor": 2
}
