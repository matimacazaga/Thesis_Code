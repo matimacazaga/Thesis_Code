{
 "cells": [
  {
   "cell_type": "code",
   "execution_count": 16,
   "metadata": {},
   "outputs": [],
   "source": [
    "import numpy as np\n",
    "import pandas as pd\n",
    "import matplotlib.pyplot as plt\n",
    "from scipy.stats import norm\n",
    "from IPython.display import display\n",
    "import pickle\n",
    "import matplotlib as mpl"
   ]
  },
  {
   "cell_type": "markdown",
   "metadata": {},
   "source": [
    "Wald-Wolfowitz runs test utilizando código del libro Python Data Análisis Cookbook.\n",
    "\n",
    "[Referencia](https://en.wikipedia.org/wiki/Wald%E2%80%93Wolfowitz_runs_test) para las ecuaciones "
   ]
  },
  {
   "cell_type": "code",
   "execution_count": 2,
   "metadata": {},
   "outputs": [],
   "source": [
    "#Función para contar el numero de runs \n",
    "def count_runs(signs):\n",
    "    nruns = 0\n",
    "    prev = None\n",
    "    for s in signs:\n",
    "        if s!=0 and s != prev:\n",
    "            nruns += 1\n",
    "        prev = s\n",
    "    return nruns"
   ]
  },
  {
   "cell_type": "code",
   "execution_count": 10,
   "metadata": {},
   "outputs": [],
   "source": [
    "#Funcion para calcular el valor medio, la desv estandar y el z-score\n",
    "def proc_runs(ticker):\n",
    "    stock = pd.read_csv('/home/matimacazaga/Documents/Universidad/Tesis/CSV/'+ticker+'.csv',sep=',')\n",
    "    if len(stock)<2000:\n",
    "        return np.nan,np.nan,np.nan\n",
    "    stock = stock[stock['cierre'] != 0]\n",
    "    cierres = stock['cierre'].values\n",
    "    returns = np.diff(cierres)\n",
    "    nplus = (returns > 0).sum()\n",
    "    nmin = (returns < 0).sum()\n",
    "    n = nplus + nmin\n",
    "    mean = (2* (nplus * nmin) / n) + 1\n",
    "    var = (mean-1) * (mean-2) / (n-1)\n",
    "    std = np.sqrt(var)\n",
    "    signs = np.sign(returns)\n",
    "    nruns = count_runs(np.diff(signs))\n",
    "    return mean, std, (nruns - mean) / std"
   ]
  },
  {
   "cell_type": "code",
   "execution_count": 11,
   "metadata": {},
   "outputs": [],
   "source": [
    "tickers = pickle.load(open('/home/matimacazaga/Documents/Universidad/Tesis/tickers.p','rb'))"
   ]
  },
  {
   "cell_type": "code",
   "execution_count": 12,
   "metadata": {},
   "outputs": [
    {
     "data": {
      "text/plain": [
       "['BHIP',\n",
       " 'BOLT',\n",
       " 'BPAT',\n",
       " 'BRIO',\n",
       " 'BRIO6',\n",
       " 'BYMA',\n",
       " 'CADO',\n",
       " 'CAPU',\n",
       " 'CAPX',\n",
       " 'CARC',\n",
       " 'CELU',\n",
       " 'CEPU',\n",
       " 'CGPA2',\n",
       " 'COLO',\n",
       " 'CVH',\n",
       " 'DYCA',\n",
       " 'FERR',\n",
       " 'FIPL',\n",
       " 'GARO',\n",
       " 'GCLA',\n",
       " 'GRIM',\n",
       " 'HAVA',\n",
       " 'INDU',\n",
       " 'INTR',\n",
       " 'IRSA',\n",
       " 'LEDE',\n",
       " 'LONG',\n",
       " 'METR',\n",
       " 'MOLA',\n",
       " 'MOLI',\n",
       " 'OEST',\n",
       " 'PATA',\n",
       " 'PATY',\n",
       " 'PESA',\n",
       " 'PGR',\n",
       " 'POLL',\n",
       " 'PSUR',\n",
       " 'RIGO',\n",
       " 'ROSE',\n",
       " 'SEMI',\n",
       " 'STD',\n",
       " 'SUPV',\n",
       " 'TEF',\n",
       " 'TGLT',\n",
       " 'VALO',\n",
       " 'AGRO',\n",
       " 'ALUA',\n",
       " 'APBR',\n",
       " 'AUSO',\n",
       " 'BMA',\n",
       " 'CECO2',\n",
       " 'COME',\n",
       " 'CRES',\n",
       " 'CTIO',\n",
       " 'DGCU2',\n",
       " 'EDN',\n",
       " 'ERAR',\n",
       " 'FRAN',\n",
       " 'GGAL',\n",
       " 'JMIN',\n",
       " 'MIRG',\n",
       " 'PAMP',\n",
       " 'PETR',\n",
       " 'SAMI',\n",
       " 'TECO2',\n",
       " 'TGNO4',\n",
       " 'TGSU2',\n",
       " 'TRAN',\n",
       " 'TS',\n",
       " 'YPFD']"
      ]
     },
     "metadata": {},
     "output_type": "display_data"
    }
   ],
   "source": [
    "display(tickers)"
   ]
  },
  {
   "cell_type": "code",
   "execution_count": 13,
   "metadata": {},
   "outputs": [],
   "source": [
    "df = pd.DataFrame(columns = ['mean','std', 'Z'], index = tickers)\n",
    "for ticker in tickers:\n",
    "    mean, std, zscore = proc_runs(ticker)\n",
    "    df.loc[ticker,'mean'] = mean\n",
    "    df.loc[ticker,'std'] = std\n",
    "    df.loc[ticker,'Z'] = zscore"
   ]
  },
  {
   "cell_type": "code",
   "execution_count": 15,
   "metadata": {},
   "outputs": [
    {
     "name": "stdout",
     "output_type": "stream",
     "text": [
      "70\n",
      "48\n"
     ]
    }
   ],
   "source": [
    "print(len(df))\n",
    "df.dropna(inplace = True)\n",
    "print(len(df))\n",
    "df.to_csv('Zscores.csv',sep=',')"
   ]
  },
  {
   "cell_type": "code",
   "execution_count": 17,
   "metadata": {},
   "outputs": [
    {
     "data": {
      "text/plain": [
       "'BHIP'"
      ]
     },
     "metadata": {},
     "output_type": "display_data"
    }
   ],
   "source": [
    "display(df.index[0])"
   ]
  },
  {
   "cell_type": "code",
   "execution_count": 30,
   "metadata": {
    "scrolled": true
   },
   "outputs": [
    {
     "data": {
      "image/png": "[encoded data removed]",
      "text/plain": [
       "<matplotlib.figure.Figure at 0x7fed400756a0>"
      ]
     },
     "metadata": {},
     "output_type": "display_data"
    }
   ],
   "source": [
    "%matplotlib inline\n",
    "plt.style.use('seaborn-paper')\n",
    "plt.rc('text', usetex=True)\n",
    "plt.rc('font', family='serif')\n",
    "params = {\n",
    "   'axes.labelsize': 10,\n",
    "   'font.size': 10,\n",
    "   'legend.fontsize': 10,\n",
    "   'xtick.labelsize': 10,\n",
    "   'ytick.labelsize': 10,\n",
    "   'figure.figsize': [6, 4.5]\n",
    "   }\n",
    "mpl.rcParams.update(params)\n",
    "\n",
    "fig, ax = plt.subplots()\n",
    "\n",
    "ax.scatter(df['mean'].values, df['std'].values, color='#1c6bf3')\n",
    "\n",
    "for txt in df.index:\n",
    "    ax.annotate(txt, (df.loc[txt,'mean'],df.loc[txt,'std']))\n",
    "\n",
    "ax.set_xlabel(r\"\\textbf{$\\displaystyle \\mu$}\")\n",
    "ax.set_ylabel(r\"\\textbf{$\\displaystyle \\sigma $ }\")\n",
    "\n",
    "\n",
    "plt.savefig('mean_vs_std.eps', format = 'eps', dpi = 1000)"
   ]
  },
  {
   "cell_type": "code",
   "execution_count": 31,
   "metadata": {},
   "outputs": [
    {
     "data": {
      "image/png": "[encoded data removed]",
      "text/plain": [
       "<matplotlib.figure.Figure at 0x7fed05ec9c50>"
      ]
     },
     "metadata": {},
     "output_type": "display_data"
    }
   ],
   "source": [
    "fig1,ax1 = plt.subplots()\n",
    "x = np.linspace(0,len(df.index),len(df.index))\n",
    "ax1.bar(x, df['Z'].values, color='#1c6bf3')\n",
    "ax1.axhline(y = 1.96, label = r'\\textbf{$\\displaystyle Z=1.96 $}')\n",
    "ax1.set_ylabel(r'\\textbf{Valor de Z}')\n",
    "ax1.set_xticks(np.arange(len(df.index)) + 0.5, minor = False)\n",
    "ax1.set_xticklabels(df.index, fontsize = 6)\n",
    "plt.xticks(rotation = 90)\n",
    "plt.legend()\n",
    "plt.savefig('z_scores.eps', format = 'eps', dpi = 1000)"
   ]
  },
  {
   "cell_type": "code",
   "execution_count": null,
   "metadata": {},
   "outputs": [],
   "source": []
  }
 ],
 "metadata": {
  "kernelspec": {
   "display_name": "Python 3",
   "language": "python",
   "name": "python3"
  },
  "language_info": {
   "codemirror_mode": {
    "name": "ipython",
    "version": 3
   },
   "file_extension": ".py",
   "mimetype": "text/x-python",
   "name": "python",
   "nbconvert_exporter": "python",
   "pygments_lexer": "ipython3",
   "version": "3.6.3"
  }
 },
 "nbformat": 4,
 "nbformat_minor": 2
}
