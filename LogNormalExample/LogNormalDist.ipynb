{
 "cells": [
  {
   "cell_type": "code",
   "execution_count": 3,
   "metadata": {},
   "outputs": [],
   "source": [
    "import matplotlib.pyplot as plt \n",
    "import matplotlib as mpl \n",
    "import numpy as np \n",
    "from scipy.stats import lognorm"
   ]
  },
  {
   "cell_type": "code",
   "execution_count": 8,
   "metadata": {},
   "outputs": [
    {
     "data": {
      "image/png": "[encoded data removed]",
      "text/plain": [
       "<matplotlib.figure.Figure at 0x7f0c20dc8e10>"
      ]
     },
     "metadata": {},
     "output_type": "display_data"
    }
   ],
   "source": [
    "%matplotlib inline\n",
    "mean = 0\n",
    "variance = 1\n",
    "dist=lognorm([variance],loc=mean)\n",
    "t = np.arange(0,10,0.001)\n",
    "s = dist.pdf(t)\n",
    "plt.style.use('seaborn-paper')\n",
    "plt.rc('text', usetex=True)\n",
    "plt.rc('font', family='serif')\n",
    "params = {\n",
    "   'axes.labelsize': 10,\n",
    "   'font.size': 10,\n",
    "   'legend.fontsize': 10,\n",
    "   'xtick.labelsize': 10,\n",
    "   'ytick.labelsize': 10,\n",
    "   'figure.figsize': [6, 4.5]\n",
    "   }\n",
    "mpl.rcParams.update(params)\n",
    "plt.plot(t, s, linewidth=2, color='#1c6bf3',label =r\"$\\displaystyle\\mu=0,\\sigma = 1$\")\n",
    "\n",
    "plt.xlabel(r'\\textbf{x}')\n",
    "plt.ylabel(r'\\textbf{p(x)}')\n",
    "plt.legend()\n",
    "plt.savefig('lognormal_example.eps', format = 'eps', dpi = 1000)"
   ]
  },
  {
   "cell_type": "code",
   "execution_count": null,
   "metadata": {},
   "outputs": [],
   "source": []
  }
 ],
 "metadata": {
  "kernelspec": {
   "display_name": "Python 3",
   "language": "python",
   "name": "python3"
  },
  "language_info": {
   "codemirror_mode": {
    "name": "ipython",
    "version": 3
   },
   "file_extension": ".py",
   "mimetype": "text/x-python",
   "name": "python",
   "nbconvert_exporter": "python",
   "pygments_lexer": "ipython3",
   "version": "3.6.3"
  }
 },
 "nbformat": 4,
 "nbformat_minor": 2
}
