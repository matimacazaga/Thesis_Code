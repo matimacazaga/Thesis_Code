{
 "cells": [
  {
   "cell_type": "code",
   "execution_count": 4,
   "metadata": {},
   "outputs": [],
   "source": [
    "import pandas as pd\n",
    "from statsmodels.tsa.stattools import adfuller\n",
    "import numpy as np\n",
    "import pickle\n",
    "from IPython.display import display"
   ]
  },
  {
   "cell_type": "markdown",
   "metadata": {},
   "source": [
    "## Test aumentado de Dickey-Fuller\n",
    "+ Prueba la estacionariedad de una serie temporal\n",
    "+ Toma la primer diferencia de un modelo \n",
    "+ $H_{0}$ : si es aceptada sugiere que la serie temporal tiene una raíz unitaria por lo que es no estacionaria. Posee alguna estructura dependiente del tiempo.\n",
    "+ $H_{1}$ : la hipótesis nula es rechazada, sugiere que la series es estacionaria.\n",
    "+ Si el valor de la estadística del test es menor que el valor crítico más negativo entonces la hipotesis nula es rechazada\n",
    "+ si p-value $> 0.05$ la hipótesis nula es aceptada"
   ]
  },
  {
   "cell_type": "markdown",
   "metadata": {},
   "source": [
    "### Ejemplo"
   ]
  },
  {
   "cell_type": "code",
   "execution_count": 2,
   "metadata": {},
   "outputs": [],
   "source": [
    "stock = pd.read_csv('/home/matimacazaga/Documents/Universidad/Tesis/CSV/BHIP.csv',index_col= 0, parse_dates = True)"
   ]
  },
  {
   "cell_type": "code",
   "execution_count": 7,
   "metadata": {},
   "outputs": [
    {
     "data": {
      "text/plain": [
       "(3108,)"
      ]
     },
     "execution_count": 7,
     "metadata": {},
     "output_type": "execute_result"
    }
   ],
   "source": [
    "cierres = list(stock['cierre'].values)\n",
    "np.shape(cierres)"
   ]
  },
  {
   "cell_type": "code",
   "execution_count": null,
   "metadata": {},
   "outputs": [],
   "source": [
    "result = adfuller(cierres)\n",
    "\n",
    "print('ADF Statistic: %f' % result[0])\n",
    "print('p-value: %f' % result[1])\n",
    "print('Critical Values:')\n",
    "for key, value in result[4].items():\n",
    "    print('\\t%s: %.3f' % (key, value))"
   ]
  },
  {
   "cell_type": "markdown",
   "metadata": {},
   "source": [
    "Como ADF Statistic es mayor que todos los valores críticos y el valor de p es mayor a 0.05 la hipotesis nula es aceptada, es decir que la serie es no estacionaria"
   ]
  },
  {
   "cell_type": "markdown",
   "metadata": {},
   "source": [
    "# Código para todas las acciones"
   ]
  },
  {
   "cell_type": "code",
   "execution_count": 5,
   "metadata": {},
   "outputs": [],
   "source": [
    "ticker = pickle.load(open('/home/matimacazaga/Documents/Universidad/Tesis/tickers.p','rb'))"
   ]
  },
  {
   "cell_type": "code",
   "execution_count": 6,
   "metadata": {},
   "outputs": [
    {
     "data": {
      "text/html": [
       "<div>\n",
       "<style>\n",
       "    .dataframe thead tr:only-child th {\n",
       "        text-align: right;\n",
       "    }\n",
       "\n",
       "    .dataframe thead th {\n",
       "        text-align: left;\n",
       "    }\n",
       "\n",
       "    .dataframe tbody tr th {\n",
       "        vertical-align: top;\n",
       "    }\n",
       "</style>\n",
       "<table border=\"1\" class=\"dataframe\">\n",
       "  <thead>\n",
       "    <tr style=\"text-align: right;\">\n",
       "      <th></th>\n",
       "      <th>ADF</th>\n",
       "      <th>p-value</th>\n",
       "      <th>Lags</th>\n",
       "      <th>5%</th>\n",
       "      <th>1%</th>\n",
       "      <th>10%</th>\n",
       "    </tr>\n",
       "  </thead>\n",
       "  <tbody>\n",
       "    <tr>\n",
       "      <th>BHIP</th>\n",
       "      <td>2.43808</td>\n",
       "      <td>0.999027</td>\n",
       "      <td>27</td>\n",
       "      <td>-2.86248</td>\n",
       "      <td>-3.43247</td>\n",
       "      <td>-2.56727</td>\n",
       "    </tr>\n",
       "    <tr>\n",
       "      <th>BRIO</th>\n",
       "      <td>2.52237</td>\n",
       "      <td>0.999057</td>\n",
       "      <td>28</td>\n",
       "      <td>-2.86264</td>\n",
       "      <td>-3.43284</td>\n",
       "      <td>-2.56736</td>\n",
       "    </tr>\n",
       "    <tr>\n",
       "      <th>CADO</th>\n",
       "      <td>-1.6112</td>\n",
       "      <td>0.477344</td>\n",
       "      <td>8</td>\n",
       "      <td>-2.86262</td>\n",
       "      <td>-3.4328</td>\n",
       "      <td>-2.56735</td>\n",
       "    </tr>\n",
       "    <tr>\n",
       "      <th>CAPX</th>\n",
       "      <td>2.60324</td>\n",
       "      <td>0.999076</td>\n",
       "      <td>28</td>\n",
       "      <td>-2.86266</td>\n",
       "      <td>-3.43289</td>\n",
       "      <td>-2.56737</td>\n",
       "    </tr>\n",
       "    <tr>\n",
       "      <th>CARC</th>\n",
       "      <td>-2.62363</td>\n",
       "      <td>0.0882103</td>\n",
       "      <td>24</td>\n",
       "      <td>-2.86255</td>\n",
       "      <td>-3.43264</td>\n",
       "      <td>-2.56731</td>\n",
       "    </tr>\n",
       "  </tbody>\n",
       "</table>\n",
       "</div>"
      ],
      "text/plain": [
       "          ADF    p-value Lags       5%       1%      10%\n",
       "BHIP  2.43808   0.999027   27 -2.86248 -3.43247 -2.56727\n",
       "BRIO  2.52237   0.999057   28 -2.86264 -3.43284 -2.56736\n",
       "CADO  -1.6112   0.477344    8 -2.86262  -3.4328 -2.56735\n",
       "CAPX  2.60324   0.999076   28 -2.86266 -3.43289 -2.56737\n",
       "CARC -2.62363  0.0882103   24 -2.86255 -3.43264 -2.56731"
      ]
     },
     "metadata": {},
     "output_type": "display_data"
    }
   ],
   "source": [
    "df = pd.DataFrame(columns = ['ADF','p-value','Lags','5%','1%','10%'], index = ticker)\n",
    "\n",
    "for t in ticker:\n",
    "    stock = pd.read_csv('/home/matimacazaga/Documents/Universidad/Tesis/CSV/'+t+'.csv')\n",
    "    if len(stock) > 2000:\n",
    "        cierres = list(stock['cierre'].values)\n",
    "        result = adfuller(cierres)\n",
    "        df.loc[t,'ADF'] = result[0]\n",
    "        df.loc[t,'p-value'] = result[1]\n",
    "        df.loc[t, 'Lags'] = result[2]\n",
    "        for key,value in result[4].items():\n",
    "            df.loc[t,str(key)] = value\n",
    "\n",
    "df.dropna(inplace=True)\n",
    "\n",
    "display(df.head())\n",
    "        \n",
    "    \n",
    "    "
   ]
  },
  {
   "cell_type": "code",
   "execution_count": 7,
   "metadata": {},
   "outputs": [],
   "source": [
    "df.to_csv('ADF_test.csv',sep=',')"
   ]
  },
  {
   "cell_type": "markdown",
   "metadata": {},
   "source": [
    "$H_{0} \\rightarrow 1$\n",
    "\n",
    "$H_{A} \\rightarrow -1$"
   ]
  },
  {
   "cell_type": "code",
   "execution_count": 13,
   "metadata": {},
   "outputs": [],
   "source": [
    "dict_H5 = {}\n",
    "dict_H1 = {}\n",
    "dict_H10 = {}\n",
    "for t in df.index:\n",
    "    if df.loc[t,'ADF'] > df.loc[t,'5%'] and df.loc[t,'p-value'] > 0.05:\n",
    "        dict_H5[t] = 1\n",
    "    else:\n",
    "        dict_H5[t] = 0\n",
    "    if df.loc[t,'ADF'] > df.loc[t,'1%'] and df.loc[t,'p-value'] > 0.05:\n",
    "        dict_H1[t] = 1\n",
    "    else:\n",
    "        dict_H1[t] = 0\n",
    "    if df.loc[t,'ADF'] > df.loc[t,'10%'] and df.loc[t,'p-value'] > 0.05:\n",
    "        dict_H10[t] = 1\n",
    "    else:\n",
    "        dict_H10[t] = 0\n"
   ]
  },
  {
   "cell_type": "code",
   "execution_count": 23,
   "metadata": {},
   "outputs": [
    {
     "name": "stdout",
     "output_type": "stream",
     "text": [
      "Acciones no estacionarias con nivel de significancia menor a 1%: 97.9166666667 %\n",
      "Acciones no estacionarias con nivel de significancia menor a 10%: 91.6666666667 %\n",
      "Acciones no estacionarias con nivel de significancia menor a 5%: 97.9166666667 %\n"
     ]
    }
   ],
   "source": [
    "print('Acciones no estacionarias con nivel de significancia menor a 1%:',np.sum([dict_H1[t] for t in df.index])/len(df.index)*100,'%')\n",
    "print('Acciones no estacionarias con nivel de significancia menor a 10%:',np.sum([dict_H10[t] for t in df.index])/len(df.index)*100,'%')\n",
    "print('Acciones no estacionarias con nivel de significancia menor a 5%:',np.sum([dict_H5[t] for t in df.index])/len(df.index)*100,'%')"
   ]
  },
  {
   "cell_type": "markdown",
   "metadata": {},
   "source": [
    "El nivel de significancia indica la probabilidad de que el resultado sea una **casualidad estadística**"
   ]
  },
  {
   "cell_type": "code",
   "execution_count": 29,
   "metadata": {},
   "outputs": [
    {
     "data": {
      "text/plain": [
       "'BHIP'"
      ]
     },
     "execution_count": 29,
     "metadata": {},
     "output_type": "execute_result"
    }
   ],
   "source": [
    "list(dict_H1.items())[0][0]"
   ]
  },
  {
   "cell_type": "code",
   "execution_count": 31,
   "metadata": {},
   "outputs": [
    {
     "name": "stdout",
     "output_type": "stream",
     "text": [
      "PATA\n"
     ]
    }
   ],
   "source": [
    "for i,t in enumerate(df.index):\n",
    "    if dict_H1[t] == 0:\n",
    "        print(t)"
   ]
  },
  {
   "cell_type": "code",
   "execution_count": 32,
   "metadata": {},
   "outputs": [
    {
     "name": "stdout",
     "output_type": "stream",
     "text": [
      "CARC\n",
      "PATA\n",
      "POLL\n",
      "APBR\n"
     ]
    }
   ],
   "source": [
    "for i,t in enumerate(df.index):\n",
    "    if dict_H10[t] == 0:\n",
    "        print(t)"
   ]
  },
  {
   "cell_type": "code",
   "execution_count": 33,
   "metadata": {},
   "outputs": [
    {
     "name": "stdout",
     "output_type": "stream",
     "text": [
      "PATA\n"
     ]
    }
   ],
   "source": [
    "for i,t in enumerate(df.index):\n",
    "    if dict_H5[t] == 0:\n",
    "        print(t)"
   ]
  },
  {
   "cell_type": "code",
   "execution_count": null,
   "metadata": {},
   "outputs": [],
   "source": []
  }
 ],
 "metadata": {
  "kernelspec": {
   "display_name": "Python 3",
   "language": "python",
   "name": "python3"
  },
  "language_info": {
   "codemirror_mode": {
    "name": "ipython",
    "version": 3
   },
   "file_extension": ".py",
   "mimetype": "text/x-python",
   "name": "python",
   "nbconvert_exporter": "python",
   "pygments_lexer": "ipython3",
   "version": "3.6.3"
  }
 },
 "nbformat": 4,
 "nbformat_minor": 2
}
